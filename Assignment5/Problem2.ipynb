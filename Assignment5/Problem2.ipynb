{
 "cells": [
  {
   "cell_type": "markdown",
   "metadata": {},
   "source": [
    "**a.)** For steepest descent, the number of iterations for convergence for each resolution are:\n",
    "\n",
    "- 8 x 8: 190 iterations\n",
    "- 16 x 16: 303 iterations\n",
    "- 32 x 32: 382 iterations\n",
    "- 64 x 64: 824 iterations\n",
    "\n",
    "The number of iterations seems to grow significantly with increases in parameter dimensionality. We can easily see that the steepest descent method does not scale well."
   ]
  },
  {
   "cell_type": "markdown",
   "metadata": {},
   "source": [
    "**b.)** For Newton-CG, the number of iterations for convergence for each resolution are:\n",
    "\n",
    "- 8 x 8: 6 iterations (32 CG iterations)\n",
    "- 16 x 16: 7 iterations (39 CG iterations)\n",
    "- 32 x 32: 7 iterations (40 CG iterations)\n",
    "- 64 x 64: 7 iterations (38 CG iterations)\n",
    "\n",
    "The number of iterations for the Newton-CG method does not seem to change significantly with increases in parameter dimension. This makes it much more scalable than steepest descent."
   ]
  },
  {
   "cell_type": "markdown",
   "metadata": {},
   "source": [
    "**c.)** Below are plots representing the eigenvalues and eigenvectors of the Hessian misfit at the solution of the inverse problem for domains of 8 x 8, 16 x 16, 32 x 32, and 64 x 64. \n",
    "\n",
    "Of note is the fact that the eigenvalues do not seem to change significantly even with increasing domain sizes.\n",
    "\n",
    "The eigenvectors of the Hessian misfit seem to converge to a particular pattern with increasing domain size. The higher the eigenvector, the greater the domain it seems to need to converge. This can easily be seen by comparing eigenvectors 0,1,2 with 5,10,15 across the domains.\n",
    "\n",
    "![8x8](eigenval8.png)\n",
    "<div align=\"center\">8 x 8 Eigenvalues</div>\n",
    "\n",
    "![8x8](eigenvec8.png)\n",
    "<div align=\"center\">8 x 8 Eigenvectors</div>\n",
    "\n",
    "![16x16](eigenval16.png)\n",
    "<div align=\"center\">16 x 16 Eigenvalues</div>\n",
    "\n",
    "![16x16](eigenvec16.png)\n",
    "<div align=\"center\">8 x 8 Eigenvectors</div>\n",
    "\n",
    "![32x32](eigenval32.png)\n",
    "<div align=\"center\">32 x 32 Eigenvalues</div>\n",
    "\n",
    "![8x8](eigenvec32.png)\n",
    "<div align=\"center\">8 x 8 Eigenvectors>/div>\n",
    "\n",
    "![64x64](eigenval64.png)\n",
    "<div align=\"center\">64 x 64 Eigenvalues</div>\n",
    "\n",
    "![8x8](eigenvec64.png)\n",
    "<div align=\"center\">8 x 8 Eigenvectors</div>"
   ]
  },
  {
   "cell_type": "markdown",
   "metadata": {},
   "source": [
    "**d.)**"
   ]
  }
 ],
 "metadata": {
  "kernelspec": {
   "display_name": "Python 3",
   "language": "python",
   "name": "python3"
  },
  "language_info": {
   "codemirror_mode": {
    "name": "ipython",
    "version": 3
   },
   "file_extension": ".py",
   "mimetype": "text/x-python",
   "name": "python",
   "nbconvert_exporter": "python",
   "pygments_lexer": "ipython3",
   "version": "3.7.3"
  }
 },
 "nbformat": 4,
 "nbformat_minor": 2
}
